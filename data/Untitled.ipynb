{
 "cells": [
  {
   "cell_type": "code",
   "execution_count": 1,
   "metadata": {},
   "outputs": [],
   "source": [
    "import pandas as pd"
   ]
  },
  {
   "cell_type": "code",
   "execution_count": 2,
   "metadata": {},
   "outputs": [
    {
     "name": "stderr",
     "output_type": "stream",
     "text": [
      "C:\\Users\\sbhatta7\\AppData\\Local\\Continuum\\anaconda3\\lib\\site-packages\\IPython\\core\\interactiveshell.py:3049: DtypeWarning: Columns (10) have mixed types. Specify dtype option on import or set low_memory=False.\n",
      "  interactivity=interactivity, compiler=compiler, result=result)\n"
     ]
    }
   ],
   "source": [
    "f1=pd.read_csv('merged.csv')\n",
    "#pop=pd.read_csv('WorldPopulation.csv',encoding='latin-1',sep= '\\t')"
   ]
  },
  {
   "cell_type": "code",
   "execution_count": 3,
   "metadata": {},
   "outputs": [
    {
     "data": {
      "text/html": [
       "<div>\n",
       "<style scoped>\n",
       "    .dataframe tbody tr th:only-of-type {\n",
       "        vertical-align: middle;\n",
       "    }\n",
       "\n",
       "    .dataframe tbody tr th {\n",
       "        vertical-align: top;\n",
       "    }\n",
       "\n",
       "    .dataframe thead th {\n",
       "        text-align: right;\n",
       "    }\n",
       "</style>\n",
       "<table border=\"1\" class=\"dataframe\">\n",
       "  <thead>\n",
       "    <tr style=\"text-align: right;\">\n",
       "      <th></th>\n",
       "      <th>date</th>\n",
       "      <th>update</th>\n",
       "      <th>cases</th>\n",
       "      <th>new_cases</th>\n",
       "      <th>deaths</th>\n",
       "      <th>new_deaths</th>\n",
       "      <th>recovered</th>\n",
       "      <th>new_recovered</th>\n",
       "      <th>active_cases</th>\n",
       "      <th>country</th>\n",
       "      <th>last_update</th>\n",
       "      <th>new_cases_rolling7</th>\n",
       "      <th>new_cases_rolling30</th>\n",
       "      <th>new_deaths_rolling7</th>\n",
       "      <th>new_deaths_rolling30</th>\n",
       "      <th>population</th>\n",
       "    </tr>\n",
       "  </thead>\n",
       "  <tbody>\n",
       "    <tr>\n",
       "      <th>0</th>\n",
       "      <td>1/22/2020</td>\n",
       "      <td>1</td>\n",
       "      <td>547</td>\n",
       "      <td>547</td>\n",
       "      <td>17</td>\n",
       "      <td>17</td>\n",
       "      <td>28</td>\n",
       "      <td>28</td>\n",
       "      <td>502</td>\n",
       "      <td>Mainland China</td>\n",
       "      <td>NaN</td>\n",
       "      <td>NaN</td>\n",
       "      <td>NaN</td>\n",
       "      <td>NaN</td>\n",
       "      <td>NaN</td>\n",
       "      <td>1439324000</td>\n",
       "    </tr>\n",
       "    <tr>\n",
       "      <th>1</th>\n",
       "      <td>1/22/2020</td>\n",
       "      <td>1</td>\n",
       "      <td>1</td>\n",
       "      <td>1</td>\n",
       "      <td>0</td>\n",
       "      <td>0</td>\n",
       "      <td>0</td>\n",
       "      <td>0</td>\n",
       "      <td>1</td>\n",
       "      <td>USA</td>\n",
       "      <td>NaN</td>\n",
       "      <td>NaN</td>\n",
       "      <td>NaN</td>\n",
       "      <td>NaN</td>\n",
       "      <td>NaN</td>\n",
       "      <td>331003000</td>\n",
       "    </tr>\n",
       "  </tbody>\n",
       "</table>\n",
       "</div>"
      ],
      "text/plain": [
       "        date  update  cases  new_cases  deaths  new_deaths  recovered  \\\n",
       "0  1/22/2020       1    547        547      17          17         28   \n",
       "1  1/22/2020       1      1          1       0           0          0   \n",
       "\n",
       "   new_recovered  active_cases         country last_update  \\\n",
       "0             28           502  Mainland China         NaN   \n",
       "1              0             1             USA         NaN   \n",
       "\n",
       "   new_cases_rolling7  new_cases_rolling30  new_deaths_rolling7  \\\n",
       "0                 NaN                  NaN                  NaN   \n",
       "1                 NaN                  NaN                  NaN   \n",
       "\n",
       "   new_deaths_rolling30  population  \n",
       "0                   NaN  1439324000  \n",
       "1                   NaN   331003000  "
      ]
     },
     "execution_count": 3,
     "metadata": {},
     "output_type": "execute_result"
    }
   ],
   "source": [
    "f1.head(2)"
   ]
  },
  {
   "cell_type": "code",
   "execution_count": 4,
   "metadata": {},
   "outputs": [],
   "source": [
    "f2=pd.read_csv('country_lat_long.csv')"
   ]
  },
  {
   "cell_type": "code",
   "execution_count": 5,
   "metadata": {},
   "outputs": [
    {
     "data": {
      "text/html": [
       "<div>\n",
       "<style scoped>\n",
       "    .dataframe tbody tr th:only-of-type {\n",
       "        vertical-align: middle;\n",
       "    }\n",
       "\n",
       "    .dataframe tbody tr th {\n",
       "        vertical-align: top;\n",
       "    }\n",
       "\n",
       "    .dataframe thead th {\n",
       "        text-align: right;\n",
       "    }\n",
       "</style>\n",
       "<table border=\"1\" class=\"dataframe\">\n",
       "  <thead>\n",
       "    <tr style=\"text-align: right;\">\n",
       "      <th></th>\n",
       "      <th>ISO 3166 Country Code</th>\n",
       "      <th>Country</th>\n",
       "      <th>Lat</th>\n",
       "      <th>Long</th>\n",
       "    </tr>\n",
       "  </thead>\n",
       "  <tbody>\n",
       "    <tr>\n",
       "      <th>0</th>\n",
       "      <td>AF</td>\n",
       "      <td>Afghanistan</td>\n",
       "      <td>33.0</td>\n",
       "      <td>65.0</td>\n",
       "    </tr>\n",
       "    <tr>\n",
       "      <th>1</th>\n",
       "      <td>AL</td>\n",
       "      <td>Albania</td>\n",
       "      <td>41.0</td>\n",
       "      <td>20.0</td>\n",
       "    </tr>\n",
       "  </tbody>\n",
       "</table>\n",
       "</div>"
      ],
      "text/plain": [
       "  ISO 3166 Country Code      Country   Lat  Long\n",
       "0                    AF  Afghanistan  33.0  65.0\n",
       "1                    AL      Albania  41.0  20.0"
      ]
     },
     "execution_count": 5,
     "metadata": {},
     "output_type": "execute_result"
    }
   ],
   "source": [
    "f2.head(2)"
   ]
  },
  {
   "cell_type": "code",
   "execution_count": 6,
   "metadata": {},
   "outputs": [
    {
     "data": {
      "text/plain": [
       "set()"
      ]
     },
     "execution_count": 6,
     "metadata": {},
     "output_type": "execute_result"
    }
   ],
   "source": [
    "set(f1.country) - set(f2.Country)"
   ]
  },
  {
   "cell_type": "code",
   "execution_count": 7,
   "metadata": {},
   "outputs": [
    {
     "data": {
      "text/plain": [
       "(48891, 16)"
      ]
     },
     "execution_count": 7,
     "metadata": {},
     "output_type": "execute_result"
    }
   ],
   "source": [
    "f1.shape"
   ]
  },
  {
   "cell_type": "code",
   "execution_count": 13,
   "metadata": {},
   "outputs": [],
   "source": [
    "df=pd.merge(f1,f2,left_on='country', right_on='Country').reset_index()"
   ]
  },
  {
   "cell_type": "code",
   "execution_count": 10,
   "metadata": {},
   "outputs": [
    {
     "data": {
      "text/plain": [
       "(48891, 20)"
      ]
     },
     "execution_count": 10,
     "metadata": {},
     "output_type": "execute_result"
    }
   ],
   "source": [
    "df.shape"
   ]
  },
  {
   "cell_type": "code",
   "execution_count": 14,
   "metadata": {},
   "outputs": [
    {
     "data": {
      "text/html": [
       "<div>\n",
       "<style scoped>\n",
       "    .dataframe tbody tr th:only-of-type {\n",
       "        vertical-align: middle;\n",
       "    }\n",
       "\n",
       "    .dataframe tbody tr th {\n",
       "        vertical-align: top;\n",
       "    }\n",
       "\n",
       "    .dataframe thead th {\n",
       "        text-align: right;\n",
       "    }\n",
       "</style>\n",
       "<table border=\"1\" class=\"dataframe\">\n",
       "  <thead>\n",
       "    <tr style=\"text-align: right;\">\n",
       "      <th></th>\n",
       "      <th>index</th>\n",
       "      <th>date</th>\n",
       "      <th>update</th>\n",
       "      <th>cases</th>\n",
       "      <th>new_cases</th>\n",
       "      <th>deaths</th>\n",
       "      <th>new_deaths</th>\n",
       "      <th>recovered</th>\n",
       "      <th>new_recovered</th>\n",
       "      <th>active_cases</th>\n",
       "      <th>...</th>\n",
       "      <th>last_update</th>\n",
       "      <th>new_cases_rolling7</th>\n",
       "      <th>new_cases_rolling30</th>\n",
       "      <th>new_deaths_rolling7</th>\n",
       "      <th>new_deaths_rolling30</th>\n",
       "      <th>population</th>\n",
       "      <th>ISO 3166 Country Code</th>\n",
       "      <th>Country</th>\n",
       "      <th>Lat</th>\n",
       "      <th>Long</th>\n",
       "    </tr>\n",
       "  </thead>\n",
       "  <tbody>\n",
       "    <tr>\n",
       "      <th>0</th>\n",
       "      <td>0</td>\n",
       "      <td>1/22/2020</td>\n",
       "      <td>1</td>\n",
       "      <td>547</td>\n",
       "      <td>547</td>\n",
       "      <td>17</td>\n",
       "      <td>17</td>\n",
       "      <td>28</td>\n",
       "      <td>28</td>\n",
       "      <td>502</td>\n",
       "      <td>...</td>\n",
       "      <td>NaN</td>\n",
       "      <td>NaN</td>\n",
       "      <td>NaN</td>\n",
       "      <td>NaN</td>\n",
       "      <td>NaN</td>\n",
       "      <td>1439324000</td>\n",
       "      <td>CN</td>\n",
       "      <td>Mainland China</td>\n",
       "      <td>35.0</td>\n",
       "      <td>105.0</td>\n",
       "    </tr>\n",
       "    <tr>\n",
       "      <th>1</th>\n",
       "      <td>1</td>\n",
       "      <td>1/23/2020</td>\n",
       "      <td>2</td>\n",
       "      <td>639</td>\n",
       "      <td>92</td>\n",
       "      <td>18</td>\n",
       "      <td>1</td>\n",
       "      <td>30</td>\n",
       "      <td>2</td>\n",
       "      <td>591</td>\n",
       "      <td>...</td>\n",
       "      <td>NaN</td>\n",
       "      <td>NaN</td>\n",
       "      <td>NaN</td>\n",
       "      <td>NaN</td>\n",
       "      <td>NaN</td>\n",
       "      <td>1439324000</td>\n",
       "      <td>CN</td>\n",
       "      <td>Mainland China</td>\n",
       "      <td>35.0</td>\n",
       "      <td>105.0</td>\n",
       "    </tr>\n",
       "    <tr>\n",
       "      <th>2</th>\n",
       "      <td>2</td>\n",
       "      <td>1/24/2020</td>\n",
       "      <td>3</td>\n",
       "      <td>916</td>\n",
       "      <td>277</td>\n",
       "      <td>26</td>\n",
       "      <td>8</td>\n",
       "      <td>36</td>\n",
       "      <td>6</td>\n",
       "      <td>854</td>\n",
       "      <td>...</td>\n",
       "      <td>NaN</td>\n",
       "      <td>NaN</td>\n",
       "      <td>NaN</td>\n",
       "      <td>NaN</td>\n",
       "      <td>NaN</td>\n",
       "      <td>1439324000</td>\n",
       "      <td>CN</td>\n",
       "      <td>Mainland China</td>\n",
       "      <td>35.0</td>\n",
       "      <td>105.0</td>\n",
       "    </tr>\n",
       "    <tr>\n",
       "      <th>3</th>\n",
       "      <td>3</td>\n",
       "      <td>1/25/2020</td>\n",
       "      <td>4</td>\n",
       "      <td>1399</td>\n",
       "      <td>483</td>\n",
       "      <td>42</td>\n",
       "      <td>16</td>\n",
       "      <td>39</td>\n",
       "      <td>3</td>\n",
       "      <td>1318</td>\n",
       "      <td>...</td>\n",
       "      <td>NaN</td>\n",
       "      <td>NaN</td>\n",
       "      <td>NaN</td>\n",
       "      <td>NaN</td>\n",
       "      <td>NaN</td>\n",
       "      <td>1439324000</td>\n",
       "      <td>CN</td>\n",
       "      <td>Mainland China</td>\n",
       "      <td>35.0</td>\n",
       "      <td>105.0</td>\n",
       "    </tr>\n",
       "    <tr>\n",
       "      <th>4</th>\n",
       "      <td>4</td>\n",
       "      <td>1/26/2020</td>\n",
       "      <td>5</td>\n",
       "      <td>2062</td>\n",
       "      <td>663</td>\n",
       "      <td>56</td>\n",
       "      <td>14</td>\n",
       "      <td>49</td>\n",
       "      <td>10</td>\n",
       "      <td>1957</td>\n",
       "      <td>...</td>\n",
       "      <td>NaN</td>\n",
       "      <td>NaN</td>\n",
       "      <td>NaN</td>\n",
       "      <td>NaN</td>\n",
       "      <td>NaN</td>\n",
       "      <td>1439324000</td>\n",
       "      <td>CN</td>\n",
       "      <td>Mainland China</td>\n",
       "      <td>35.0</td>\n",
       "      <td>105.0</td>\n",
       "    </tr>\n",
       "  </tbody>\n",
       "</table>\n",
       "<p>5 rows × 21 columns</p>\n",
       "</div>"
      ],
      "text/plain": [
       "   index       date  update  cases  new_cases  deaths  new_deaths  recovered  \\\n",
       "0      0  1/22/2020       1    547        547      17          17         28   \n",
       "1      1  1/23/2020       2    639         92      18           1         30   \n",
       "2      2  1/24/2020       3    916        277      26           8         36   \n",
       "3      3  1/25/2020       4   1399        483      42          16         39   \n",
       "4      4  1/26/2020       5   2062        663      56          14         49   \n",
       "\n",
       "   new_recovered  active_cases  ... last_update new_cases_rolling7  \\\n",
       "0             28           502  ...         NaN                NaN   \n",
       "1              2           591  ...         NaN                NaN   \n",
       "2              6           854  ...         NaN                NaN   \n",
       "3              3          1318  ...         NaN                NaN   \n",
       "4             10          1957  ...         NaN                NaN   \n",
       "\n",
       "   new_cases_rolling30  new_deaths_rolling7  new_deaths_rolling30  population  \\\n",
       "0                  NaN                  NaN                   NaN  1439324000   \n",
       "1                  NaN                  NaN                   NaN  1439324000   \n",
       "2                  NaN                  NaN                   NaN  1439324000   \n",
       "3                  NaN                  NaN                   NaN  1439324000   \n",
       "4                  NaN                  NaN                   NaN  1439324000   \n",
       "\n",
       "   ISO 3166 Country Code         Country   Lat   Long  \n",
       "0                     CN  Mainland China  35.0  105.0  \n",
       "1                     CN  Mainland China  35.0  105.0  \n",
       "2                     CN  Mainland China  35.0  105.0  \n",
       "3                     CN  Mainland China  35.0  105.0  \n",
       "4                     CN  Mainland China  35.0  105.0  \n",
       "\n",
       "[5 rows x 21 columns]"
      ]
     },
     "execution_count": 14,
     "metadata": {},
     "output_type": "execute_result"
    }
   ],
   "source": [
    "df.head()"
   ]
  },
  {
   "cell_type": "code",
   "execution_count": 12,
   "metadata": {},
   "outputs": [
    {
     "data": {
      "text/plain": [
       "date                         0\n",
       "update                       0\n",
       "cases                        0\n",
       "new_cases                    0\n",
       "deaths                       0\n",
       "new_deaths                   0\n",
       "recovered                    0\n",
       "new_recovered                0\n",
       "active_cases                 0\n",
       "country                      0\n",
       "last_update              48890\n",
       "new_cases_rolling7        1146\n",
       "new_cases_rolling30       5512\n",
       "new_deaths_rolling7       1146\n",
       "new_deaths_rolling30      5512\n",
       "population                   0\n",
       "ISO 3166 Country Code     1716\n",
       "Country                      0\n",
       "Lat                          0\n",
       "Long                         0\n",
       "dtype: int64"
      ]
     },
     "execution_count": 12,
     "metadata": {},
     "output_type": "execute_result"
    }
   ],
   "source": [
    "df.isnull().sum()"
   ]
  },
  {
   "cell_type": "code",
   "execution_count": 15,
   "metadata": {},
   "outputs": [],
   "source": [
    "df.to_csv(\"merged_final.csv\")"
   ]
  },
  {
   "cell_type": "code",
   "execution_count": 16,
   "metadata": {},
   "outputs": [],
   "source": [
    "from cfuzzyset import cFuzzySet as FuzzySet\n"
   ]
  },
  {
   "cell_type": "code",
   "execution_count": 18,
   "metadata": {},
   "outputs": [],
   "source": [
    "import cfuzzyset"
   ]
  },
  {
   "cell_type": "code",
   "execution_count": 19,
   "metadata": {},
   "outputs": [
    {
     "data": {
      "text/plain": [
       "(0, 0, 18)"
      ]
     },
     "execution_count": 19,
     "metadata": {},
     "output_type": "execute_result"
    }
   ],
   "source": [
    "cfuzzyset.__version__"
   ]
  },
  {
   "cell_type": "code",
   "execution_count": null,
   "metadata": {},
   "outputs": [],
   "source": []
  }
 ],
 "metadata": {
  "kernelspec": {
   "display_name": "Python 3",
   "language": "python",
   "name": "python3"
  },
  "language_info": {
   "codemirror_mode": {
    "name": "ipython",
    "version": 3
   },
   "file_extension": ".py",
   "mimetype": "text/x-python",
   "name": "python",
   "nbconvert_exporter": "python",
   "pygments_lexer": "ipython3",
   "version": "3.7.3"
  }
 },
 "nbformat": 4,
 "nbformat_minor": 2
}
